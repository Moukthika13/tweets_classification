{
 "cells": [
  {
   "cell_type": "code",
   "execution_count": null,
   "metadata": {},
   "outputs": [],
   "source": [
    "                                            \"\"\"Classifying tweets\"\"\""
   ]
  },
  {
   "cell_type": "code",
   "execution_count": 26,
   "metadata": {},
   "outputs": [],
   "source": [
    "\"\"\"For this particular assignment I have obtained a labelled dataset from Vinaykoal's github page.\n",
    "The data contains tweets of two major categories 'Sports' and 'Politics'.\n",
    "\n",
    "The following code shows two approaches to the tweet classification\n",
    "\n",
    "1. supervised learning approach \n",
    "\n",
    "2. Unsupervised learning approach\n",
    "\n",
    "\n",
    "\n",
    "\"\"\""
   ]
  },
  {
   "cell_type": "code",
   "execution_count": null,
   "metadata": {},
   "outputs": [],
   "source": [
    "                                        \"\"\"Supervised learning Approach\"\"\""
   ]
  },
  {
   "cell_type": "code",
   "execution_count": 1,
   "metadata": {},
   "outputs": [
    {
     "name": "stderr",
     "output_type": "stream",
     "text": [
      "C:\\Users\\Moukthika\\AppData\\Local\\Continuum\\anaconda3\\lib\\site-packages\\gensim\\utils.py:1197: UserWarning: detected Windows; aliasing chunkize to chunkize_serial\n",
      "  warnings.warn(\"detected Windows; aliasing chunkize to chunkize_serial\")\n"
     ]
    }
   ],
   "source": [
    "import pandas as pd\n",
    "import string\n",
    "import nltk\n",
    "from nltk.stem.porter import PorterStemmer\n",
    "from sklearn.metrics import accuracy_score\n",
    "from sklearn.model_selection import train_test_split\n",
    "from sklearn.feature_extraction.text import CountVectorizer\n",
    "from sklearn.feature_extraction.text import TfidfTransformer\n",
    "from sklearn import metrics\n",
    "import os\n",
    "from nltk.corpus import stopwords\n",
    "from nltk.stem.wordnet import WordNetLemmatizer\n",
    "import string\n",
    "import gensim\n",
    "from gensim import corpora\n",
    "from gensim.models import ldaseqmodel\n",
    "from gensim.corpora import Dictionary, bleicorpus\n",
    "import numpy\n",
    "from gensim.matutils import hellinger\n",
    "from nltk.tokenize import word_tokenize"
   ]
  },
  {
   "cell_type": "code",
   "execution_count": 2,
   "metadata": {},
   "outputs": [
    {
     "data": {
      "text/html": [
       "<div>\n",
       "<style scoped>\n",
       "    .dataframe tbody tr th:only-of-type {\n",
       "        vertical-align: middle;\n",
       "    }\n",
       "\n",
       "    .dataframe tbody tr th {\n",
       "        vertical-align: top;\n",
       "    }\n",
       "\n",
       "    .dataframe thead th {\n",
       "        text-align: right;\n",
       "    }\n",
       "</style>\n",
       "<table border=\"1\" class=\"dataframe\">\n",
       "  <thead>\n",
       "    <tr style=\"text-align: right;\">\n",
       "      <th></th>\n",
       "      <th>category</th>\n",
       "      <th>tweet</th>\n",
       "    </tr>\n",
       "  </thead>\n",
       "  <tbody>\n",
       "    <tr>\n",
       "      <th>0</th>\n",
       "      <td>Sports</td>\n",
       "      <td>99 days to go until the start of #ct13 did you...</td>\n",
       "    </tr>\n",
       "    <tr>\n",
       "      <th>1</th>\n",
       "      <td>Sports</td>\n",
       "      <td>tonight scottish first division match between ...</td>\n",
       "    </tr>\n",
       "    <tr>\n",
       "      <th>2</th>\n",
       "      <td>Sports</td>\n",
       "      <td>10 off the over 10 required captain faulkner t...</td>\n",
       "    </tr>\n",
       "    <tr>\n",
       "      <th>3</th>\n",
       "      <td>Politics</td>\n",
       "      <td>. gsanetwork raises awareness &amp;amp stands up t...</td>\n",
       "    </tr>\n",
       "    <tr>\n",
       "      <th>4</th>\n",
       "      <td>Sports</td>\n",
       "      <td>another wonderful start from england new ball ...</td>\n",
       "    </tr>\n",
       "    <tr>\n",
       "      <th>5</th>\n",
       "      <td>Politics</td>\n",
       "      <td>#food minister there will now be legal entitle...</td>\n",
       "    </tr>\n",
       "    <tr>\n",
       "      <th>6</th>\n",
       "      <td>Sports</td>\n",
       "      <td>precious four to hartley with time running out...</td>\n",
       "    </tr>\n",
       "    <tr>\n",
       "      <th>7</th>\n",
       "      <td>Politics</td>\n",
       "      <td>blasts deja vu how many times have we been in ...</td>\n",
       "    </tr>\n",
       "    <tr>\n",
       "      <th>8</th>\n",
       "      <td>Politics</td>\n",
       "      <td>rt @fa books book of the day why the occasiona...</td>\n",
       "    </tr>\n",
       "    <tr>\n",
       "      <th>9</th>\n",
       "      <td>Sports</td>\n",
       "      <td>#djokovic wants to keep it sweet #ausopen #3pe...</td>\n",
       "    </tr>\n",
       "  </tbody>\n",
       "</table>\n",
       "</div>"
      ],
      "text/plain": [
       "   category                                              tweet\n",
       "0    Sports  99 days to go until the start of #ct13 did you...\n",
       "1    Sports  tonight scottish first division match between ...\n",
       "2    Sports  10 off the over 10 required captain faulkner t...\n",
       "3  Politics  . gsanetwork raises awareness &amp stands up t...\n",
       "4    Sports  another wonderful start from england new ball ...\n",
       "5  Politics  #food minister there will now be legal entitle...\n",
       "6    Sports  precious four to hartley with time running out...\n",
       "7  Politics  blasts deja vu how many times have we been in ...\n",
       "8  Politics  rt @fa books book of the day why the occasiona...\n",
       "9    Sports  #djokovic wants to keep it sweet #ausopen #3pe..."
      ]
     },
     "execution_count": 2,
     "metadata": {},
     "output_type": "execute_result"
    }
   ],
   "source": [
    "#reading the data\n",
    "\n",
    "col_names = ['category', 'tweet']\n",
    "df = pd.read_csv('/Users/moukthika/Desktop/wkc/data_twitter.csv', names = col_names, encoding = 'latin1')\n",
    "df.sample(frac=1)\n",
    "df.head(10)\n",
    "\n",
    "#the dataset contains tweets and the corresponding label. The primary classes are 'sports' and 'politics'."
   ]
  },
  {
   "cell_type": "code",
   "execution_count": 3,
   "metadata": {},
   "outputs": [
    {
     "name": "stdout",
     "output_type": "stream",
     "text": [
      "for the french in mali expelling the islamists was the easy part now what http //t co 2rcfieyscl : Politics\n"
     ]
    }
   ],
   "source": [
    "#playing around with data\n",
    "print( df.tweet[395], \":\", df.category[395])"
   ]
  },
  {
   "cell_type": "code",
   "execution_count": 4,
   "metadata": {
    "scrolled": true
   },
   "outputs": [
    {
     "data": {
      "image/png": "[encoded data removed]",
      "text/plain": [
       "<matplotlib.figure.Figure at 0x1ae5f2b00f0>"
      ]
     },
     "metadata": {},
     "output_type": "display_data"
    }
   ],
   "source": [
    "#plotting the data to understand the distribution of the tweets among the two classes. \n",
    "\n",
    "import matplotlib.pyplot as plt\n",
    "%matplotlib inline\n",
    "fig = plt.figure(figsize=(8,6))\n",
    "df.groupby('category').tweet.count().plot.bar(ylim=0)\n",
    "plt.show()\n"
   ]
  },
  {
   "cell_type": "code",
   "execution_count": null,
   "metadata": {},
   "outputs": [],
   "source": [
    "\"\"\"From the above plot, it is clear that there are more sports tweets in the data set than political tweets\"\"\""
   ]
  },
  {
   "cell_type": "code",
   "execution_count": 5,
   "metadata": {},
   "outputs": [],
   "source": [
    "#preprocessing the data before vectorising it.\n",
    "\n",
    "porter = PorterStemmer()\n",
    "def preprocessing(string):\n",
    "    words = nltk.word_tokenize(string) #splitting the sentences into words\n",
    "    words = [w.lower() for w in words] #converting all words to lower case to avoid have separate vectors for words such as \"now\" and \"Now\" i\n",
    "    #words = [word for word in words if word.isalpha()] #removing everything that is not alphabetic to get rid of punctuations.\n",
    "    \n",
    "    \"\"\"it is good to retain the non-alpha numeric characters here because a lot is expressd through hashtags, @ and other symbols\n",
    "    as it is a microbloggig site allowing a user to type only a certain number of words.\"\"\"\n",
    "    \n",
    "    stop_words = stopwords.words('english')\n",
    "    words = [w for w in words if not w in stop_words] \n",
    "    \n",
    "    stemmed = [porter.stem(word) for word in words] #to reduce the word to it's root/base. Since we are not looking at a deeper meaning of a word here and want to reduce the vocanulary size.\n",
    "    words = stemmed\n",
    "    return words"
   ]
  },
  {
   "cell_type": "code",
   "execution_count": 6,
   "metadata": {},
   "outputs": [
    {
     "data": {
      "text/plain": [
       "(6550, 741)"
      ]
     },
     "execution_count": 6,
     "metadata": {},
     "output_type": "execute_result"
    }
   ],
   "source": [
    "\"\"\"Since we cannot work with text directly for ML algorithms, the text has to be converted to meaninful numbers. \n",
    "One way of doing it is with Bag of Words model.\n",
    "In Bag of Words model one can get rid of the sequential data (which is language) and only focus on the word occurances, \n",
    "Tfidf is one type of Bag of Words model. \n",
    "This is an acronym than stands for “Term Frequency – Inverse Document” Frequency which are the components of the resulting scores assigned to each word.\n",
    "Term Frequency: This summarizes how often a given word appears within a document.\n",
    "Inverse Document Frequency: This downscales words that appear a lot across documents.\"\"\"\n",
    "\n",
    "from sklearn.feature_extraction.text import TfidfVectorizer\n",
    "tfidf = TfidfVectorizer(sublinear_tf=True, min_df=10, max_df = 15, norm='l2', encoding='latin-1', ngram_range=(1,3), tokenizer = preprocessing)\n",
    "\n",
    "features = tfidf.fit_transform(df.tweet).toarray() #the tfidf vectors of the questions will serve as features\n",
    "labels = df.category\n",
    "features.shape\n",
    "\n",
    "\n"
   ]
  },
  {
   "cell_type": "code",
   "execution_count": 7,
   "metadata": {},
   "outputs": [],
   "source": [
    "#splitting the test and train set\n",
    "\n",
    "X_train, X_test, y_train, y_test = train_test_split(df['tweet'], df['category'], random_state = 42, test_size = 0.2)\n",
    "count_vect = CountVectorizer()\n",
    "X_train_counts = count_vect.fit_transform(X_train)\n",
    "tfidf_transformer = TfidfTransformer()\n",
    "X_train_tfidf = tfidf_transformer.fit_transform(X_train_counts)"
   ]
  },
  {
   "cell_type": "code",
   "execution_count": null,
   "metadata": {},
   "outputs": [],
   "source": [
    "                        \"\"\"Understanding how each algorithm is performing on the dataset\"\"\""
   ]
  },
  {
   "cell_type": "code",
   "execution_count": null,
   "metadata": {},
   "outputs": [],
   "source": [
    "                                            \"\"\"Using Naive Bayes\"\"\""
   ]
  },
  {
   "cell_type": "code",
   "execution_count": 8,
   "metadata": {},
   "outputs": [],
   "source": [
    "from sklearn.naive_bayes import MultinomialNB\n",
    "model_nb = MultinomialNB(alpha = 1.0)\n",
    "clf_nb = model_nb.fit(X_train_tfidf, y_train)"
   ]
  },
  {
   "cell_type": "code",
   "execution_count": 9,
   "metadata": {},
   "outputs": [
    {
     "name": "stdout",
     "output_type": "stream",
     "text": [
      "0.9564885496183206\n"
     ]
    }
   ],
   "source": [
    "prediction_nb =  clf_nb.predict(count_vect.transform(X_test))\n",
    "print(accuracy_score(y_test, prediction_nb))\n",
    "\n",
    "#the accuracy for naive bayes is quite good and even the predictions made are quite accurate when hashtags are given as the input"
   ]
  },
  {
   "cell_type": "code",
   "execution_count": 10,
   "metadata": {},
   "outputs": [
    {
     "name": "stdout",
     "output_type": "stream",
     "text": [
      "['Sports']\n",
      "['Politics']\n",
      "['Politics']\n",
      "['Politics']\n",
      "['Sports']\n",
      "['Politics']\n"
     ]
    }
   ],
   "source": [
    "print(clf_nb.predict(count_vect.transform([\"#indvaus\"])))\n",
    "print(clf_nb.predict(count_vect.transform([\"#EU\"])))\n",
    "print(clf_nb.predict(count_vect.transform([\"#white house\"])))\n",
    "print(clf_nb.predict(count_vect.transform([\"#MAKEAMERICAGREATAGAIN!\"])))\n",
    "print(clf_nb.predict(count_vect.transform([\"#rafalnadal\"])))\n",
    "print(clf_nb.predict(count_vect.transform([\"#trump2016\"])))"
   ]
  },
  {
   "cell_type": "code",
   "execution_count": null,
   "metadata": {},
   "outputs": [],
   "source": [
    "                                                \"\"\"Using SVM\"\"\""
   ]
  },
  {
   "cell_type": "code",
   "execution_count": 11,
   "metadata": {},
   "outputs": [],
   "source": [
    "from sklearn import svm\n",
    "model_svm = svm.LinearSVC()\n",
    "clf_svm = model_svm.fit(X_train_tfidf, y_train)"
   ]
  },
  {
   "cell_type": "code",
   "execution_count": 12,
   "metadata": {},
   "outputs": [
    {
     "name": "stdout",
     "output_type": "stream",
     "text": [
      "0.916793893129771\n"
     ]
    }
   ],
   "source": [
    "prediction_svm = clf_svm.predict(count_vect.transform(X_test))\n",
    "print(accuracy_score(y_test, prediction_svm))\n",
    "\n",
    "#the accuracy is lesser than Naive bayes, even the prediction for one hashtag is not correct"
   ]
  },
  {
   "cell_type": "code",
   "execution_count": 13,
   "metadata": {},
   "outputs": [
    {
     "name": "stdout",
     "output_type": "stream",
     "text": [
      "['Sports']\n",
      "['Politics']\n",
      "['Sports']\n"
     ]
    }
   ],
   "source": [
    "print(clf_svm.predict(count_vect.transform([\"#indvaus\"])))\n",
    "print(clf_svm.predict(count_vect.transform([\"#trump2016\"])))\n",
    "print(clf_svm.predict(count_vect.transform([\"#MAKEAMERICAGREATAGAIN!\"])))"
   ]
  },
  {
   "cell_type": "code",
   "execution_count": null,
   "metadata": {},
   "outputs": [],
   "source": [
    "                                            \"\"\"Random Forest\"\"\""
   ]
  },
  {
   "cell_type": "code",
   "execution_count": 14,
   "metadata": {},
   "outputs": [
    {
     "data": {
      "text/plain": [
       "RandomForestClassifier(bootstrap=True, class_weight=None, criterion='gini',\n",
       "            max_depth=None, max_features='auto', max_leaf_nodes=None,\n",
       "            min_impurity_decrease=0.0, min_impurity_split=None,\n",
       "            min_samples_leaf=1, min_samples_split=2,\n",
       "            min_weight_fraction_leaf=0.0, n_estimators=100, n_jobs=1,\n",
       "            oob_score=False, random_state=42, verbose=0, warm_start=False)"
      ]
     },
     "execution_count": 14,
     "metadata": {},
     "output_type": "execute_result"
    }
   ],
   "source": [
    "from sklearn.ensemble import RandomForestClassifier \n",
    "model_rc=RandomForestClassifier(n_estimators=100, random_state = 42)\n",
    "model_rc.fit(X_train_tfidf, y_train)"
   ]
  },
  {
   "cell_type": "code",
   "execution_count": 15,
   "metadata": {},
   "outputs": [
    {
     "name": "stdout",
     "output_type": "stream",
     "text": [
      "0.9045801526717557\n"
     ]
    }
   ],
   "source": [
    "prediction_rc = model_rc.predict(count_vect.transform(X_test))\n",
    "print(accuracy_score(y_test, prediction_rc))\n",
    "\n",
    "#accuracy is much lesser and the predictions are not right for the poiltical tweets"
   ]
  },
  {
   "cell_type": "code",
   "execution_count": 16,
   "metadata": {},
   "outputs": [
    {
     "name": "stdout",
     "output_type": "stream",
     "text": [
      "['Sports']\n",
      "['Sports']\n",
      "['Sports']\n",
      "['Sports']\n"
     ]
    }
   ],
   "source": [
    "print(model_rc.predict(count_vect.transform([\"#usopen\"])))\n",
    "print(model_rc.predict(count_vect.transform([\"#MAKEAMERICAGREATAGAIN!\"])))\n",
    "print(model_rc.predict(count_vect.transform([\"#trump2016\"])))\n",
    "print(model_rc.predict(count_vect.transform([\"#tennis\"])))"
   ]
  },
  {
   "cell_type": "code",
   "execution_count": null,
   "metadata": {},
   "outputs": [],
   "source": [
    "\n",
    "                                        \"\"\"KNeighbours classifier\"\"\""
   ]
  },
  {
   "cell_type": "code",
   "execution_count": 17,
   "metadata": {},
   "outputs": [
    {
     "data": {
      "text/plain": [
       "KNeighborsClassifier(algorithm='auto', leaf_size=30, metric='minkowski',\n",
       "           metric_params=None, n_jobs=1, n_neighbors=5, p=2,\n",
       "           weights='uniform')"
      ]
     },
     "execution_count": 17,
     "metadata": {},
     "output_type": "execute_result"
    }
   ],
   "source": [
    "from sklearn.neighbors import KNeighborsClassifier\n",
    "clf_knn = KNeighborsClassifier()\n",
    "clf_knn.fit(X_train_tfidf, y_train)"
   ]
  },
  {
   "cell_type": "code",
   "execution_count": 18,
   "metadata": {},
   "outputs": [
    {
     "name": "stdout",
     "output_type": "stream",
     "text": [
      "0.9129770992366413\n"
     ]
    }
   ],
   "source": [
    "prediction_knn = clf_knn.predict(count_vect.transform(X_test))\n",
    "print(accuracy_score(y_test, prediction_knn))\n",
    "\n",
    "#accuracy not as good and even predictions are not great for political tweets"
   ]
  },
  {
   "cell_type": "code",
   "execution_count": 19,
   "metadata": {},
   "outputs": [
    {
     "name": "stdout",
     "output_type": "stream",
     "text": [
      "['Sports']\n",
      "['Sports']\n",
      "['Sports']\n"
     ]
    }
   ],
   "source": [
    "print(clf_knn.predict(count_vect.transform([\"#ausopen\"])))\n",
    "print(model_rc.predict(count_vect.transform([\"#MAKE AMERICA GREAT AGAIN!\"])))\n",
    "print(model_rc.predict(count_vect.transform([\"#trump2016\"])))"
   ]
  },
  {
   "cell_type": "code",
   "execution_count": null,
   "metadata": {},
   "outputs": [],
   "source": [
    "                                            \"\"\"Decision Tree\"\"\""
   ]
  },
  {
   "cell_type": "code",
   "execution_count": 20,
   "metadata": {},
   "outputs": [
    {
     "data": {
      "text/plain": [
       "DecisionTreeClassifier(class_weight=None, criterion='gini', max_depth=None,\n",
       "            max_features=None, max_leaf_nodes=None,\n",
       "            min_impurity_decrease=0.0, min_impurity_split=None,\n",
       "            min_samples_leaf=1, min_samples_split=2,\n",
       "            min_weight_fraction_leaf=0.0, presort=False, random_state=None,\n",
       "            splitter='best')"
      ]
     },
     "execution_count": 20,
     "metadata": {},
     "output_type": "execute_result"
    }
   ],
   "source": [
    "from sklearn import tree\n",
    "model_dt=tree.DecisionTreeClassifier()\n",
    "model_dt.fit(X_train_tfidf, y_train)"
   ]
  },
  {
   "cell_type": "code",
   "execution_count": 21,
   "metadata": {},
   "outputs": [
    {
     "name": "stdout",
     "output_type": "stream",
     "text": [
      "0.7816793893129771\n"
     ]
    }
   ],
   "source": [
    "prediction_dt = model_dt.predict(count_vect.transform(X_test))\n",
    "print(accuracy_score(y_test, prediction_dt))\n",
    "\n",
    "#very low accuracy, and the predictions are also pretty off."
   ]
  },
  {
   "cell_type": "code",
   "execution_count": 22,
   "metadata": {},
   "outputs": [
    {
     "name": "stdout",
     "output_type": "stream",
     "text": [
      "['Sports']\n",
      "['Sports']\n",
      "['Sports']\n"
     ]
    }
   ],
   "source": [
    "print(model_dt.predict(count_vect.transform([\"#ausopen\"])))\n",
    "print(model_dt.predict(count_vect.transform([\"#Hillary\"])))\n",
    "print(model_dt.predict(count_vect.transform([\"#trump2016\"])))"
   ]
  },
  {
   "cell_type": "code",
   "execution_count": null,
   "metadata": {},
   "outputs": [],
   "source": [
    "\"\"\"From the above experiment, it is clear that Naive Bayes with close to 96 % accuracy is working best to \n",
    "classify a particular hashtag into a category on which the tweets have been trained.\"\"\""
   ]
  },
  {
   "cell_type": "code",
   "execution_count": null,
   "metadata": {},
   "outputs": [],
   "source": []
  },
  {
   "cell_type": "code",
   "execution_count": null,
   "metadata": {},
   "outputs": [],
   "source": [
    "                                    \"\"\"Unsupervised Learning Approach\"\"\""
   ]
  },
  {
   "cell_type": "code",
   "execution_count": null,
   "metadata": {},
   "outputs": [],
   "source": [
    "\"\"\"This is an attempt to understand the tweet categories in the dataset with the help of a topic modeling\n",
    "technique called Latent Dirichlet Allocation(LDA).\"\"\""
   ]
  },
  {
   "cell_type": "code",
   "execution_count": 23,
   "metadata": {},
   "outputs": [],
   "source": [
    "import os\n",
    "import nltk\n",
    "from nltk.corpus import stopwords\n",
    "from nltk.stem.wordnet import WordNetLemmatizer\n",
    "import string\n",
    "import gensim\n",
    "from gensim import corpora\n",
    "from gensim.models import ldaseqmodel\n",
    "from gensim.corpora import Dictionary, bleicorpus\n",
    "import numpy\n",
    "from gensim.matutils import hellinger\n",
    "from nltk.tokenize import word_tokenize\n",
    "import csv"
   ]
  },
  {
   "cell_type": "code",
   "execution_count": 24,
   "metadata": {},
   "outputs": [],
   "source": [
    "##getting the data used above, but without the 'sports' and 'politics' labels\n",
    "docs = []\n",
    "store = \"\"\n",
    "file = open(\"/Users/Moukthika/Desktop/wkc/twitter_ldc.csv\", 'r', encoding = 'latin1')\n",
    "reader = csv.reader(file)\n",
    "for row in reader:\n",
    "    for i in row:\n",
    "        docs.append(i)"
   ]
  },
  {
   "cell_type": "code",
   "execution_count": 25,
   "metadata": {},
   "outputs": [],
   "source": [
    "#preprocessing the data\n",
    "stop = set(stopwords.words('english'))\n",
    "exclude = set(string.punctuation)\n",
    "lemma = WordNetLemmatizer()"
   ]
  },
  {
   "cell_type": "code",
   "execution_count": 26,
   "metadata": {},
   "outputs": [],
   "source": [
    "def clean(d):\n",
    "    stop_free = \" \".join([i for i in d.lower().split() if i not in stop])\n",
    "    punc_free = ''.join(ch for ch in stop_free if ch not in exclude)\n",
    "    normalized = \" \".join(word for word in punc_free.split() if len(word)>4)\n",
    "    return normalized"
   ]
  },
  {
   "cell_type": "code",
   "execution_count": 41,
   "metadata": {},
   "outputs": [],
   "source": [
    "doc_clean = [clean(d).split() for d in docs]\n",
    "dictionary = corpora.Dictionary(doc_clean)\n",
    "doc_term_matrix = [dictionary.doc2bow(doc) for doc in doc_clean] #generating a document-term matrix"
   ]
  },
  {
   "cell_type": "code",
   "execution_count": 42,
   "metadata": {},
   "outputs": [],
   "source": [
    "#using LDA algorithm from Gensim\n",
    "\n",
    "Lda = gensim.models.ldamodel.LdaModel"
   ]
  },
  {
   "cell_type": "code",
   "execution_count": 47,
   "metadata": {},
   "outputs": [],
   "source": [
    "#training our lda model\n",
    "\"\"\"although we know that there are two major topics in the data, the num_topics is initiated to 5 to understand how the algorithm \n",
    "extracts the topics from the dataset\"\"\"\n",
    "\n",
    "lda_model = Lda(doc_term_matrix, num_topics=5, id2word = dictionary, passes=20)\n"
   ]
  },
  {
   "cell_type": "code",
   "execution_count": 48,
   "metadata": {},
   "outputs": [
    {
     "name": "stdout",
     "output_type": "stream",
     "text": [
      "[(0, '0.014*\"video\" + 0.014*\"conference\" + 0.013*\"press\"'), (1, '0.022*\"president\" + 0.017*\"obama\" + 0.011*\"u2019s\"'), (2, '0.014*\"bbl02\" + 0.012*\"bigfinals\" + 0.008*\"gbfedcup\"'), (3, '0.026*\"indvaus\" + 0.016*\"fvnl1ktpb1\" + 0.012*\"india\"'), (4, '0.012*\"thanks\" + 0.008*\"medvedev\" + 0.006*\"great\"')]\n"
     ]
    }
   ],
   "source": [
    "print(lda_model.print_topics(num_topics=5, num_words=3))"
   ]
  },
  {
   "cell_type": "code",
   "execution_count": null,
   "metadata": {},
   "outputs": [],
   "source": [
    "                                        \"\"\"Understanding the output\"\"\"\n",
    "\n",
    "#the first topic contains the words  video, conference and press and could all under either categories\n",
    "#the second topic is polotics as it has returned the words obama, president, 2019\n",
    "#The third is sports with the words gbfedcup, a hashtag and bigfinals \n",
    "#fourth is sports with words indvsaus, a hashtag and india\n",
    "#and fifth is politics too. \n",
    "\n",
    "#So clearly there are two major topics\n",
    "#let us try with num_topics = 2"
   ]
  },
  {
   "cell_type": "code",
   "execution_count": 55,
   "metadata": {},
   "outputs": [],
   "source": [
    "lda_model = Lda(doc_term_matrix, num_topics=2, id2word = dictionary, passes=20)\n"
   ]
  },
  {
   "cell_type": "code",
   "execution_count": 56,
   "metadata": {},
   "outputs": [
    {
     "name": "stdout",
     "output_type": "stream",
     "text": [
      "[(0, '0.009*\"president\" + 0.005*\"video\" + 0.005*\"u2019s\"'), (1, '0.011*\"indvaus\" + 0.007*\"fvnl1ktpb1\" + 0.006*\"bbl02\"')]\n"
     ]
    }
   ],
   "source": [
    "print(lda_model.print_topics(num_topics=2, num_words=3))"
   ]
  },
  {
   "cell_type": "code",
   "execution_count": null,
   "metadata": {},
   "outputs": [],
   "source": [
    "#the two topics are thus politics and sports\n",
    "#however we will not be able to categorize a particular hastag into one of the two categories, we can still certainly classify \n",
    "#the topics and possibly get the distances of the hastags with one of the above topics identified. "
   ]
  }
 ],
 "metadata": {
  "kernelspec": {
   "display_name": "Python 3",
   "language": "python",
   "name": "python3"
  },
  "language_info": {
   "codemirror_mode": {
    "name": "ipython",
    "version": 3
   },
   "file_extension": ".py",
   "mimetype": "text/x-python",
   "name": "python",
   "nbconvert_exporter": "python",
   "pygments_lexer": "ipython3",
   "version": "3.6.4"
  }
 },
 "nbformat": 4,
 "nbformat_minor": 2
}
